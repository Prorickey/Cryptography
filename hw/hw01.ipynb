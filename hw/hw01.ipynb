{
 "cells": [
  {
   "cell_type": "code",
   "execution_count": 1,
   "id": "4afb86d4",
   "metadata": {
    "deletable": false,
    "editable": false
   },
   "outputs": [],
   "source": [
    "# Initialize Otter\n",
    "import otter\n",
    "grader = otter.Notebook(\"hw01.ipynb\")"
   ]
  },
  {
   "cell_type": "markdown",
   "id": "be557ae7-5a82-404e-8d93-8c4293baf6d4",
   "metadata": {},
   "source": [
    "# Homework 01: Monoalphabetic Ciphers and Cryptanalysis\n",
    "\n",
    "## Overview\n",
    "This homework will cover the topics taught in Lessons 01 - 12. It is a mix of coding exercises to be completed in this Jupyter notebook, and free-response questions to be completed on a corresponding handout.\n",
    "\n",
    "## Allowable resources\n",
    "You may use any programming techniques covered in class to answer the following questions on this programming portion of this assignment, however, pay careful attention to the directions for each question to ensure you are using the specific approach requested, when applicable. You are only allowed to use your notes and refer to previous lesson materials and activities as resources to complete this assignment. No artificial intelligence tools, textbooks other than the book for this course, or internet resources may be used to complete this programming portion of the assignment."
   ]
  },
  {
   "cell_type": "markdown",
   "id": "5a352440-f261-4caa-b5a3-18660aa3dd0e",
   "metadata": {},
   "source": [
    "## Part 1: Perfect Numbers\n",
    "\n",
    "A positive integer $n$ is called a **perfect number** if all divisors of $n$ which are less than $n$ sum to equal $n$. \n",
    "\n",
    "Put another way, a perfect number is a positive integer that is equal to the sum of its positive factors, excluding the number itself. For example, $6$ is a perfect number because the factors of $6$ that are less than $6$ are $1$, $2$, and $3$, which sum to $6$ ($6 = 1 + 2 + 3$)."
   ]
  },
  {
   "cell_type": "markdown",
   "id": "71fd3ae3-f8a8-4d5a-8746-967cd93682de",
   "metadata": {
    "deletable": false,
    "editable": false
   },
   "source": [
    "### Question 1.1\n",
    "\n",
    "Write a function named `perfect` which accepts an integer `n` as an input. The function `perfect` should return `True` if the integer `n` is a perfect number, and return `False` if integer `n` is not a perfect number.\n",
    "\n",
    "For example:\n",
    "\n",
    "```python\n",
    ">>> perfect(6)\n",
    "True\n",
    "\n",
    ">>> perfect(28)\n",
    "True\n",
    "\n",
    ">>> perfect(15)\n",
    "False\n",
    "```"
   ]
  },
  {
   "cell_type": "code",
   "execution_count": 14,
   "id": "6aa1918d-3943-41b1-85b7-cf3778ab5858",
   "metadata": {
    "tags": []
   },
   "outputs": [],
   "source": [
    "def get_divisors(n):\n",
    "    divisors = []\n",
    "    for i in range(1, int(n/2) + 1):\n",
    "        if n % i == 0:\n",
    "            divisors.append(i)\n",
    "\n",
    "    return divisors\n",
    "\n",
    "def perfect(n):\n",
    "    if n == 0 or n == 1:\n",
    "        return False\n",
    "    return sum(get_divisors(n)) == n"
   ]
  },
  {
   "cell_type": "code",
   "execution_count": 15,
   "id": "3be9d9de",
   "metadata": {
    "deletable": false,
    "editable": false
   },
   "outputs": [
    {
     "data": {
      "text/html": [
       "<p><strong><pre style='display: inline;'>q1_1</pre></strong> passed! 🎉</p>"
      ],
      "text/plain": [
       "q1_1 results: All test cases passed!"
      ]
     },
     "execution_count": 15,
     "metadata": {},
     "output_type": "execute_result"
    }
   ],
   "source": [
    "grader.check(\"q1_1\")"
   ]
  },
  {
   "cell_type": "markdown",
   "id": "ae4f9bbe-e09f-4219-b6a0-7f06ccb85b4d",
   "metadata": {
    "deletable": false,
    "editable": false
   },
   "source": [
    "### Question 1.2\n",
    "Write a function `all_perfects_less_than` which accepts an integer `k` and returns a **list** of all perfect numbers less than `k`.\n",
    "\n",
    "For example:\n",
    "```python\n",
    ">>> all_perfects_less_than(50)\n",
    "[6, 28]\n",
    "\n",
    ">>> all_perfects_less_than(500)\n",
    "[6, 28, 496]\n",
    "\n",
    ">>> all_perfects_less_than(5)\n",
    "[]\n",
    "```"
   ]
  },
  {
   "cell_type": "code",
   "execution_count": 23,
   "id": "d206ce7a-4969-4bb1-859a-d0c534293e4c",
   "metadata": {
    "tags": []
   },
   "outputs": [],
   "source": [
    "def all_perfects_less_than(k):\n",
    "    perf = []\n",
    "    for i in range(1, k):\n",
    "        if perfect(i):\n",
    "            perf.append(i)\n",
    "\n",
    "    return perf"
   ]
  },
  {
   "cell_type": "code",
   "execution_count": 24,
   "id": "dcbb4ec5",
   "metadata": {
    "deletable": false,
    "editable": false
   },
   "outputs": [
    {
     "data": {
      "text/html": [
       "<p><strong><pre style='display: inline;'>q1_2</pre></strong> passed! 🌈</p>"
      ],
      "text/plain": [
       "q1_2 results: All test cases passed!"
      ]
     },
     "execution_count": 24,
     "metadata": {},
     "output_type": "execute_result"
    }
   ],
   "source": [
    "grader.check(\"q1_2\")"
   ]
  },
  {
   "cell_type": "markdown",
   "id": "e281817f-494e-4031-895a-06ad6bef637b",
   "metadata": {},
   "source": [
    "## Part 2: Bar Charts and Chi Squared scoring\n",
    "\n",
    "In this part, you'll be using chi squared scoring to perform some cryptanalysis. Run the code cell below to load in the following functions we've previously written in class:\n",
    "* `caesar`\n",
    "* `chi_squared`\n",
    "\n",
    "**Note:** It's important that you use the provided functions, not functions you've written in class, to ensure that your results are consistent with the automatic grader checks."
   ]
  },
  {
   "cell_type": "code",
   "execution_count": 25,
   "id": "980a598f-16b0-44bd-9015-deba519be5e8",
   "metadata": {},
   "outputs": [],
   "source": [
    "def caesar(text, key, decrypt=False, LETTERS = 'ABCDEFGHIJKLMNOPQRSTUVWXYZ'):\n",
    "    \n",
    "    final_text = ''\n",
    "\n",
    "    for char in text:\n",
    "        text_numerical = LETTERS.find( char )\n",
    "        \n",
    "        if decrypt:\n",
    "            new_text_numerical = (text_numerical - key) % len(LETTERS)\n",
    "        else:\n",
    "            new_text_numerical = (text_numerical + key) % len(LETTERS)\n",
    "        \n",
    "        final_text += LETTERS[new_text_numerical]\n",
    "\n",
    "    if decrypt:\n",
    "        return final_text\n",
    "    else:\n",
    "        return final_text"
   ]
  },
  {
   "cell_type": "code",
   "execution_count": 26,
   "id": "4141317b-bbb4-49b1-86e5-b6327993e936",
   "metadata": {},
   "outputs": [],
   "source": [
    "def chi_squared(text, LETTERS='ABCDEFGHIJKLMNOPQRSTUVWXYZ'):\n",
    "\n",
    "    letter_percentage =[0.082, 0.015, 0.028, 0.043, 0.127, 0.022, 0.02, 0.061, 0.07, 0.0015, 0.0077, 0.04, 0.024, 0.067, 0.075, 0.019, 0.00095, 0.06, 0.063, 0.091, 0.028, 0.0098, 0.024, 0.0015, 0.02, 0.00074]\n",
    "    total = 0\n",
    "    \n",
    "    for char in LETTERS:\n",
    "        actual = text.count(char)\n",
    "        expected = letter_percentage[LETTERS.find(char)] * len(text)\n",
    "        partial_score = (expected - actual)**2 / expected\n",
    "        total += partial_score\n",
    "        \n",
    "    return total"
   ]
  },
  {
   "cell_type": "markdown",
   "id": "0d714e12-61f7-4b27-955c-6c6cc035a259",
   "metadata": {
    "deletable": false,
    "editable": false
   },
   "source": [
    "<!-- BEGIN QUESTION -->\n",
    "\n",
    "### Question 2.1\n",
    "\n",
    "You intercepted the following ciphertext that you suspect was encrypted using the Caesar cipher. Notice that this ciphertext is already cleaned for analysis."
   ]
  },
  {
   "cell_type": "code",
   "execution_count": 27,
   "id": "ca20ed26-876a-40b2-9524-75b91089b976",
   "metadata": {
    "deletable": false,
    "editable": false
   },
   "outputs": [],
   "source": [
    "ciphertext = 'LZWVWTSLWLGMJFSEWFLLZWTMKVWHSJLWVSLXANWLZAJLQSEUSJJQAFYGMJVWTSLWLWSELZJGMYZLZWVSJCFWKKLGOSJVLZWKLSLWUZSEHAGFKZAHWAYZLTDWSJQWQWVKLMVWFLKUDMLUZWVLJSNWDEMYKGXUGXXWWSFVJWNAWOWVFGLWUSJVKTQLZWVAEGNWJZWSVDAYZLKJWEWETWJALKFGLBMKLSTGMLXSULKUGSUZDSOKGFKSAVXJGELZWXJGFLKWSLALKSTGMLUGFFWULAFYOALZLZWBMVYWKESCWLZWEUSJWSTGMLQGMJSJYMEWFLAFGVVWVLZGMYZEQKLGESUZUZMJFWVOALZSFPAWLQLZAKOSKEQXAJKLLAEWUGEHWLAFYSLLZWKLSLWDWNWDLZWHJWNAGMKFAYZLAVHJSULAUWVEQGHWFAFYKLSLWEWFLMFLADEQJGGEESLWLZJWSLWFWVLGKEGLZWJEWOALZSHADDGOAXAVAVFLDWLZWJKDWWHLZWUGEHWLALAGFOSKZWDVSLUWFLJSDMFANWJKALQALKAEHGKAFYTJAUCTMADVAFYKESCAFYEWXWWDKESDDWJLZSFMKMSDLWSEKXJGESUJGKKLZWKLSLWZMVVDWVAFZSDDOSQKGJUDSAEWVLSTDWKAFLZWKLMVWFLMFAGFSTMRRAFYZANWGXFWJNGMKWFWJYQSFVDSKLEAFMLWHJWHSJSLAGFKGMJXAJKLJGMFVLZWLGHAUOSKUDAESLWHGDAUQOWFLKMJHJAKAFYDQOWDDEQHSJLFWJVSEAWFSFVASVNSFUWVLGLZWIMSJLWJXAFSDKLZWFKGEWZGOLGLZWKWEAXAFSDKOALZWSUZJGMFVEQUGFXAVWFUWYJWOLZWZGMJKGXJWKWSJUZLZWHJSULAUWVWTSLWKLZWXWWVTSUCKWKKAGFKALOSKSDDUGEAFYLGYWLZWJLZWXAFSDJGMFVOSKSFAFLWDDWULMSDWPLJSNSYSFRSSYSAFKLLZWVWXWFVAFYUZSEHAGFKXJGEOWKLDSCWSUSVWEQLZWSMVAWFUWZSVYJGOFLGFWSJDQSZMFVJWVHWGHDWHSJWFLKUGSUZWKWDAEAFSLWVUGEHWLALGJKWNWFSXWOMFANWJKALQKLMVWFLKUMJAGMKSTGMLLZWUGEEGLAGFOZWFLZWBMVYWKSFFGMFUWVVSEAWFSFVEWSKLZWOAFFWJKAUGMDVFLHJGUWKKALSLXAJKLUGSUZDSOKGFKWFLZMKASKLAUWETJSUWXAFSDDQESVWALJWSDOWZSVVGFWALGMJKESDDHMTDAUKUZGGDZSVVWXWSLWVHJANSLWSUSVWEAWKOALZVWVAUSLWVVWTSLWUGSUZWKSFVDSNAKZJWKGMJUWKGFLZWJAVWZGEWLJGHZQFWKLDWVKSXWDQAFEQDSHAJWSDARWVKGEWLZAFYAEHGJLSFLTWAFYMFVWJWKLAESLWVUSFTWSHGOWJXMDSVNSFLSYWFGGFWWPHWULWVMKLGOAFWPUWHLUGSUZDSOKGFOZGZSVTWDAWNWVAFMKXJGELZWTWYAFFAFYKGEWLAEWKLZSLKSDDLZWSVNSFLSYWQGMFWWV'"
   ]
  },
  {
   "cell_type": "markdown",
   "id": "e02b5e06-dd6e-4fb7-be17-91800bb9e541",
   "metadata": {
    "deletable": false,
    "editable": false
   },
   "source": [
    "In the code cell below, generate a bar chart of the character frequency in the ciphertext. The height of the bar should indicate the *proportion* of the ciphertext that contains the letter associated with each bar (not the raw count)."
   ]
  },
  {
   "cell_type": "code",
   "execution_count": 30,
   "id": "00b13d4d-e836-4949-b63a-87493e442361",
   "metadata": {
    "tags": []
   },
   "outputs": [
    {
     "data": {
      "text/plain": [
       "<module 'matplotlib.pyplot' from '/opt/conda/lib/python3.12/site-packages/matplotlib/pyplot.py'>"
      ]
     },
     "execution_count": 30,
     "metadata": {},
     "output_type": "execute_result"
    },
    {
     "data": {
      "image/png": "[encoded data removed]",
      "text/plain": [
       "<Figure size 640x480 with 1 Axes>"
      ]
     },
     "metadata": {},
     "output_type": "display_data"
    }
   ],
   "source": [
    "import matplotlib.pyplot as plt\n",
    "\n",
    "freq = []\n",
    "letters = []\n",
    "for l in \"ABCDEFGHIJKLMNOPQRSTUVWXYZ\":\n",
    "    letters.append(l)\n",
    "    freq.append(ciphertext.count(l))\n",
    "\n",
    "plt.bar(letters, freq)\n",
    "plt"
   ]
  },
  {
   "cell_type": "markdown",
   "id": "baf6a297-2602-4ef1-bb19-fa51c271beb6",
   "metadata": {
    "deletable": false,
    "editable": false
   },
   "source": [
    "<!-- END QUESTION -->\n",
    "\n",
    "## Question 2.2"
   ]
  },
  {
   "cell_type": "markdown",
   "id": "b080c88b-e340-4f0f-8c1a-ecaa3036256e",
   "metadata": {
    "deletable": false,
    "editable": false
   },
   "source": [
    "In the code cell below, write a block of code that:\n",
    "1. uses every possible key for the Caesar cipher to decrypt the text,\n",
    "2. score each decryption using the chi squared method, and\n",
    "3. store each score to a list named `chi_squared_scores`, in order. \n",
    "\n",
    "For example, the first element in the `chi_squared_scores` list, `chi_squared_scores[0]`, should contain the chi squared score for the decryption obtained using a key of 0, `chi_squared_scores[1]` should contain the score when using a key of 1, and so on."
   ]
  },
  {
   "cell_type": "code",
   "execution_count": 32,
   "id": "7c4957a9-a3db-4811-8312-d91e55867f54",
   "metadata": {
    "tags": []
   },
   "outputs": [
    {
     "name": "stdout",
     "output_type": "stream",
     "text": [
      "[11476.590345085184, 19194.790248161713, 26776.93893824448, 7555.609978060503, 7210.027577454071, 9512.841641578107, 41588.095843974486, 11282.393461857633, 8835.502701151869, 17075.720747480365, 16993.6686960993, 11404.966678573339, 30449.689434604363, 27968.720140888112, 14299.139884913075, 12329.6201604869, 12677.56157164436, 8745.776384924411, 51.98933552181273, 21744.383028641234, 10381.123881599695, 31757.878006865758, 14001.432873838077, 43902.13451074849, 6246.252738235334, 20790.189751111415]\n"
     ]
    }
   ],
   "source": [
    "chi_squared_scores = []\n",
    "\n",
    "for a in range(26):\n",
    "    score = chi_squared(caesar(ciphertext, a, decrypt=True))\n",
    "    chi_squared_scores.append(score)\n",
    "\n",
    "print(chi_squared_scores)"
   ]
  },
  {
   "cell_type": "code",
   "execution_count": 33,
   "id": "3f8cf639",
   "metadata": {
    "deletable": false,
    "editable": false
   },
   "outputs": [
    {
     "data": {
      "text/html": [
       "<p><strong><pre style='display: inline;'>q2_2</pre></strong> passed! ✨</p><p><strong><pre style='display: inline;'>q2_2 - 1</pre> message:</strong> chi_squared_scores has 26 elements</p><p><strong><pre style='display: inline;'>q2_2 - 2</pre> message:</strong> The first element of chi_squared_scores is correct</p>"
      ],
      "text/plain": [
       "q2_2 results: All test cases passed!\n",
       "q2_2 - 1 message: chi_squared_scores has 26 elements\n",
       "q2_2 - 2 message: The first element of chi_squared_scores is correct"
      ]
     },
     "execution_count": 33,
     "metadata": {},
     "output_type": "execute_result"
    }
   ],
   "source": [
    "grader.check(\"q2_2\")"
   ]
  },
  {
   "cell_type": "markdown",
   "id": "8ceccffe-ad7a-4533-87f7-8dcd306460a3",
   "metadata": {
    "deletable": false,
    "editable": false
   },
   "source": [
    "### Question 2.3\n",
    "\n",
    "Based on the list of chi squared scores you computed in the previous question, determine which key was most likely used to encrypt the message. Assign the value of the key to the variable `likely_key` in the code cell below."
   ]
  },
  {
   "cell_type": "code",
   "execution_count": 38,
   "id": "0c8f28f3-1e91-4580-8776-6d81abc656d3",
   "metadata": {
    "tags": []
   },
   "outputs": [],
   "source": [
    "likely_key = chi_squared_scores.index(min(chi_squared_scores))"
   ]
  },
  {
   "cell_type": "code",
   "execution_count": 39,
   "id": "a6d840b5",
   "metadata": {
    "deletable": false,
    "editable": false
   },
   "outputs": [
    {
     "data": {
      "text/html": [
       "<p><strong><pre style='display: inline;'>q2_3</pre></strong> passed! 🌟</p><p><strong><pre style='display: inline;'>q2_3 - 1</pre> message:</strong> likely_key has been assigned to an integer value</p>"
      ],
      "text/plain": [
       "q2_3 results: All test cases passed!\n",
       "q2_3 - 1 message: likely_key has been assigned to an integer value"
      ]
     },
     "execution_count": 39,
     "metadata": {},
     "output_type": "execute_result"
    }
   ],
   "source": [
    "grader.check(\"q2_3\")"
   ]
  },
  {
   "cell_type": "markdown",
   "id": "cdf11322",
   "metadata": {
    "deletable": false,
    "editable": false
   },
   "source": [
    "## Submission\n",
    "\n",
    "Make sure you have run all cells in your notebook in order before running the cell below, so that all images/graphs appear in the output. The cell below will generate a zip file for you to submit."
   ]
  },
  {
   "cell_type": "code",
   "execution_count": null,
   "id": "8dea7d91",
   "metadata": {
    "deletable": false,
    "editable": false
   },
   "outputs": [
    {
     "data": {
      "application/javascript": [
       "\n",
       "            if (typeof Jupyter !== 'undefined') {\n",
       "                Jupyter.notebook.save_checkpoint();\n",
       "            }\n",
       "        "
      ],
      "text/plain": [
       "<IPython.core.display.Javascript object>"
      ]
     },
     "metadata": {},
     "output_type": "display_data"
    }
   ],
   "source": [
    "grader.export(pdf=False, force_save=True)"
   ]
  },
  {
   "cell_type": "markdown",
   "id": "7bb5fc8f",
   "metadata": {},
   "source": [
    " "
   ]
  }
 ],
 "metadata": {
  "kernelspec": {
   "display_name": "Python 3 (ipykernel)",
   "language": "python",
   "name": "python3"
  },
  "language_info": {
   "codemirror_mode": {
    "name": "ipython",
    "version": 3
   },
   "file_extension": ".py",
   "mimetype": "text/x-python",
   "name": "python",
   "nbconvert_exporter": "python",
   "pygments_lexer": "ipython3",
   "version": "3.12.8"
  },
  "otter": {
   "OK_FORMAT": true,
   "tests": {
    "q1_1": {
     "name": "q1_1",
     "points": 4,
     "suites": [
      {
       "cases": [
        {
         "code": ">>> perfect(6) == True\nTrue",
         "failure_message": "6 should be perfect",
         "hidden": false,
         "locked": false,
         "points": 0
        },
        {
         "code": ">>> perfect(28) == True\nTrue",
         "failure_message": "28 should be perfect",
         "hidden": false,
         "locked": false,
         "points": 0
        },
        {
         "code": ">>> perfect(496) == True\nTrue",
         "failure_message": "496 should be perfect",
         "hidden": false,
         "locked": false,
         "points": 0
        },
        {
         "code": ">>> perfect(2) == False\nTrue",
         "failure_message": "2 is not perfect",
         "hidden": false,
         "locked": false,
         "points": 0
        },
        {
         "code": ">>> perfect(15) == False\nTrue",
         "failure_message": "15 is not perfect",
         "hidden": false,
         "locked": false,
         "points": 0
        },
        {
         "code": ">>> perfect(1) == False\nTrue",
         "failure_message": "1 is not perfect",
         "hidden": false,
         "locked": false,
         "points": 0
        },
        {
         "code": ">>> perfect(0) == False\nTrue",
         "failure_message": "0 is not perfect",
         "hidden": false,
         "locked": false,
         "points": 0
        },
        {
         "code": ">>> perfect(-6) == False\nTrue",
         "failure_message": "Negative numbers are not perfect",
         "hidden": false,
         "locked": false,
         "points": 0
        }
       ],
       "scored": true,
       "setup": "",
       "teardown": "",
       "type": "doctest"
      }
     ]
    },
    "q1_2": {
     "name": "q1_2",
     "points": 4,
     "suites": [
      {
       "cases": [
        {
         "code": ">>> all_perfects_less_than(1) == []\nTrue",
         "failure_message": "For k < 6, the function should return an empty list",
         "hidden": false,
         "locked": false,
         "points": 0
        },
        {
         "code": ">>> all_perfects_less_than(0) == []\nTrue",
         "failure_message": "For k < 6, the function should return an empty list",
         "hidden": false,
         "locked": false,
         "points": 0
        },
        {
         "code": ">>> all_perfects_less_than(2) == []\nTrue",
         "failure_message": "For k < 6, the function should return an empty list",
         "hidden": false,
         "locked": false,
         "points": 0
        },
        {
         "code": ">>> all_perfects_less_than(7) == [6]\nTrue",
         "failure_message": "For 6 < k <= 28, the only perfect number is 6",
         "hidden": false,
         "locked": false,
         "points": 0
        },
        {
         "code": ">>> all_perfects_less_than(28) == [6]\nTrue",
         "failure_message": "For 6 < k <= 28, the only perfect number is 6",
         "hidden": false,
         "locked": false,
         "points": 0
        },
        {
         "code": ">>> all_perfects_less_than(50) == [6, 28]\nTrue",
         "failure_message": "for k = 50, both 6 and 28 are perfect numbers",
         "hidden": false,
         "locked": false,
         "points": 0
        },
        {
         "code": ">>> all_perfects_less_than(500) == [6, 28, 496]\nTrue",
         "failure_message": "for k = 50, 6, 28, and 496 are perfect numbers",
         "hidden": false,
         "locked": false,
         "points": 0
        },
        {
         "code": ">>> all_perfects_less_than(-10) == []\nTrue",
         "failure_message": "Negative values for k should also return an empty list",
         "hidden": false,
         "locked": false,
         "points": 0
        }
       ],
       "scored": true,
       "setup": "",
       "teardown": "",
       "type": "doctest"
      }
     ]
    },
    "q2_2": {
     "name": "q2_2",
     "points": 4,
     "suites": [
      {
       "cases": [
        {
         "code": ">>> len(chi_squared_scores) == 26\nTrue",
         "failure_message": "chi_squared_scores should have 26 elements",
         "hidden": false,
         "locked": false,
         "points": 1,
         "success_message": "chi_squared_scores has 26 elements"
        },
        {
         "code": ">>> import numpy as np\n>>> bool(np.isclose(chi_squared_scores[0], 11476.590345085184))\nTrue",
         "failure_message": "The first element of chi_squared_scores is incorrect",
         "hidden": false,
         "locked": false,
         "points": 0,
         "success_message": "The first element of chi_squared_scores is correct"
        }
       ],
       "scored": true,
       "setup": "",
       "teardown": "",
       "type": "doctest"
      }
     ]
    },
    "q2_3": {
     "name": "q2_3",
     "points": 1,
     "suites": [
      {
       "cases": [
        {
         "code": ">>> type(likely_key) == int\nTrue",
         "failure_message": "likely_key is not an integer, but it should be",
         "hidden": false,
         "locked": false,
         "points": 0,
         "success_message": "likely_key has been assigned to an integer value"
        }
       ],
       "scored": true,
       "setup": "",
       "teardown": "",
       "type": "doctest"
      }
     ]
    }
   }
  }
 },
 "nbformat": 4,
 "nbformat_minor": 5
}
