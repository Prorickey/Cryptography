{
  "cells": [
    {
      "cell_type": "markdown",
      "metadata": {
        "id": "yH6GQbSD7O7d"
      },
      "source": [
        "# 🔐 Playfair Cipher Project Notebook\n",
        "\n",
        "**Instructions:**\n",
        "1. Click on **File** (upper left).\n",
        "2. Select **Save a copy in Drive**.\n",
        "3. Rename the file to include your name, e.g., `Nijhout-Rowe_PlayfairCipher.ipynb`\n",
        "\n",
        "---\n",
        "In this assignment, you will build a program to **encrypt** and **decrypt** text using the **Playfair Cipher**.\n",
        "\n",
        "Your program should:\n",
        "- Ask the user if they want to encrypt or decrypt.\n",
        "- Ask for the text to process.\n",
        "- Work only with lowercase letters.\n",
        "- Repeat until the user wants to quit.\n",
        "\n",
        "---\n",
        "## 🔧 Part 1: Core Functions"
      ]
    },
    {
      "cell_type": "markdown",
      "metadata": {
        "id": "j-GL8S_k7O7g"
      },
      "source": [
        "### 🔲 Function 1: Create a 5x5 Playfair Square\n",
        "Write a function that builds the square using a key. It should skip duplicate letters and combine `i` and `j`.\n",
        "- **Input:** string key\n",
        "- **Output:** 2D list (5x5 grid)\n"
      ]
    },
    {
      "cell_type": "code",
      "execution_count": null,
      "metadata": {
        "id": "6SsDFOTq7O7g"
      },
      "outputs": [
        {
          "data": {
            "text/plain": [
              "[['t', 'e', 's', 'a', 'b'],\n",
              " ['c', 'd', 'f', 'g', 'h'],\n",
              " ['i', 'k', 'l', 'm', 'n'],\n",
              " ['o', 'p', 'q', 'r', 'u'],\n",
              " ['v', 'w', 'x', 'y', 'z']]"
            ]
          },
          "execution_count": 2,
          "metadata": {},
          "output_type": "execute_result"
        }
      ],
      "source": [
        "# Your function to build the square goes here:\n",
        "def build_square(key):\n",
        "    alphabet = \"abcdefghiklmnopqrstuvwxyz\"\n",
        "    seen = set()\n",
        "    result = []\n",
        "    for char in key + alphabet:\n",
        "        if char not in seen and char != 'j':\n",
        "            seen.add(char)\n",
        "            result.append(char)\n",
        "            \n",
        "    return [result[i:i+5] for i in range(0, 25, 5)]\n",
        "\n",
        "build_square(\"test\")"
      ]
    },
    {
      "cell_type": "markdown",
      "metadata": {
        "id": "LvZSUtm77O7h"
      },
      "source": [
        "### 🪓 Function 2: Split Message into Digraphs\n",
        "Write a function to break text into pairs of letters.\n",
        "- Insert `x` if a pair has duplicate letters.\n",
        "- If the message has an odd number of characters, add an `x` at the end.\n",
        "- **Input:** string message\n",
        "- **Output:** list of 2-character strings\n"
      ]
    },
    {
      "cell_type": "code",
      "execution_count": null,
      "metadata": {
        "id": "GYV-01aY7O7h"
      },
      "outputs": [
        {
          "data": {
            "text/plain": [
              "['th', 'is', 'is', 'at', 'es', 'tm', 'es', 'sa', 'ge']"
            ]
          },
          "execution_count": 8,
          "metadata": {},
          "output_type": "execute_result"
        }
      ],
      "source": [
        "# Your function to create digraphs goes here:\n",
        "def split_message(msg):\n",
        "    res = [\"\"]\n",
        "    for l in msg:\n",
        "        if len(res[len(res)-1]) < 2:\n",
        "            if res[len(res)-1] is l:\n",
        "                res[len(res)-1] += \"x\"\n",
        "                res.append(l)\n",
        "                continue\n",
        "            res[len(res)-1] += l \n",
        "        else:\n",
        "            res.append(l) \n",
        "    return res \n",
        "\n",
        "split_message(\"thisisatestmessage\")"
      ]
    },
    {
      "cell_type": "markdown",
      "metadata": {
        "id": "_hlsdR937O7i"
      },
      "source": [
        "### 📍 Function 3: Find Location of a Character\n",
        "Write a function that returns the row and column of a letter in the grid.\n",
        "- **Input:** letter, 2D grid\n",
        "- **Output:** (row, column)\n"
      ]
    },
    {
      "cell_type": "code",
      "execution_count": null,
      "metadata": {
        "id": "8qypPt1v7O7i"
      },
      "outputs": [],
      "source": [
        "# Your function to find a letter's location in the grid:"
      ]
    },
    {
      "cell_type": "markdown",
      "metadata": {
        "id": "HC-1RdYf7O7i"
      },
      "source": [
        "---\n",
        "## 🔒 Part 2: Encryption & Decryption"
      ]
    },
    {
      "cell_type": "markdown",
      "metadata": {
        "id": "NMbqE1d87O7j"
      },
      "source": [
        "### 🔐 Function 4: Encrypt a Message\n",
        "Use the digraphs and grid to encrypt each pair.\n",
        "- **Input:** 2D grid, plaintext\n",
        "- **Output:** encrypted text\n"
      ]
    },
    {
      "cell_type": "code",
      "execution_count": null,
      "metadata": {
        "id": "7qxFkSzh7O7j"
      },
      "outputs": [],
      "source": [
        "# Your function to encrypt a message:"
      ]
    },
    {
      "cell_type": "markdown",
      "metadata": {
        "id": "Iiros-2B7O7j"
      },
      "source": [
        "### 🔓 Function 5: Decrypt a Message\n",
        "Use the digraphs and grid to reverse the encryption.\n",
        "- **Input:** 2D grid, ciphertext\n",
        "- **Output:** decrypted text\n"
      ]
    },
    {
      "cell_type": "code",
      "execution_count": null,
      "metadata": {
        "id": "lruuAUYh7O7j"
      },
      "outputs": [],
      "source": [
        "# Your function to decrypt a message:"
      ]
    },
    {
      "cell_type": "markdown",
      "metadata": {
        "id": "Q9lf_CGd7O7j"
      },
      "source": [
        "### 💬 Function 6: User Interaction\n",
        "Write a function that:\n",
        "- Asks the user for a key\n",
        "- Asks whether to encrypt or decrypt\n",
        "- Asks for the text to process\n",
        "- Prints the result\n",
        "- Repeats until the user quits"
      ]
    },
    {
      "cell_type": "code",
      "execution_count": null,
      "metadata": {
        "id": "pDjwDAuS7O7j"
      },
      "outputs": [],
      "source": [
        "# Your main user interaction function:"
      ]
    }
  ],
  "metadata": {
    "colab": {
      "name": "Playfair_Cipher_Assignment.ipynb",
      "provenance": []
    },
    "kernelspec": {
      "display_name": ".venv",
      "language": "python",
      "name": "python3"
    },
    "language_info": {
      "codemirror_mode": {
        "name": "ipython",
        "version": 3
      },
      "file_extension": ".py",
      "mimetype": "text/x-python",
      "name": "python",
      "nbconvert_exporter": "python",
      "pygments_lexer": "ipython3",
      "version": "3.12.6"
    }
  },
  "nbformat": 4,
  "nbformat_minor": 0
}
