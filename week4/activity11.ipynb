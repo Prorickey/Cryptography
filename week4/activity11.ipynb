{
 "cells": [
  {
   "cell_type": "markdown",
   "id": "cf962999-8a49-491b-a964-efffac313faf",
   "metadata": {},
   "source": [
    "# Activity 11: Encrypt the Classics"
   ]
  },
  {
   "cell_type": "markdown",
   "id": "0bf3e098-75ac-415b-a1bd-9705cb1d37de",
   "metadata": {},
   "source": [
    "Project Gutenberg (https://www.gutenberg.org) is a website that hosts the world’s great literature, with focus on older works for which U.S. copyright has expired. As such, it provides legal access to thousands of books, many of which are stored in a .txt file that can be imported into your Python workflow.\n",
    "\n",
    "## Directions:\n",
    "\n",
    "1. **Choose a book to work with**. Navigate to the Top 100 downloaded books section (https://www.gutenberg.org/browse/scores/top) and find a book that calls to you. Click on the list for the book to load the information page for that specific book.\n",
    "2. **Download a copy of the book** You'll see that each book is available in a few different formats. You could view in HTML (for your web browser), EPUB (for your eBook reader), or Plain Text UTF-8 (a .txt file for your Python notebook). You should right click on the link for the Plain Text UTF-8 .txt file and save it to your local computer. You can open it on your computer to verify it downloaded correctly, it should open in Notepad (Windows) or TextEdit (Mac).\n",
    "3. **Upload the text file to the activities folder.** Put the `.txt` file in the same folder as this `activity11.ipynb` file on Datahub.\n",
    "4. **In the cell below, load the text in the text of your chosen book as a string** Refer back to Lab 02 to see how to do this."
   ]
  },
  {
   "cell_type": "code",
   "id": "1ab737f1-74d3-4c50-852b-91b0eb821561",
   "metadata": {
    "ExecuteTime": {
     "end_time": "2025-03-03T14:42:01.796918Z",
     "start_time": "2025-03-03T14:42:01.789374Z"
    }
   },
   "source": [
    "with open('book.txt') as f:\n",
    "\tplaintext = f.read()\n",
    "    \n",
    "plaintext[0:21]"
   ],
   "outputs": [
    {
     "data": {
      "text/plain": [
       "'The Project Gutenberg'"
      ]
     },
     "execution_count": 6,
     "metadata": {},
     "output_type": "execute_result"
    }
   ],
   "execution_count": 6
  },
  {
   "cell_type": "markdown",
   "id": "7076425b-8814-4045-8212-10846dec92ed",
   "metadata": {},
   "source": [
    "5. **In the cell below, lean the text using the `text_clean` function you've previously written**. Save the cleaned version of the book as a string named `plaintext` that you'll use in this activity. The string `plaintext` should hold the contents of your book, but only contain the 26 uppercase English letters, without any spaces or punctuation."
   ]
  },
  {
   "cell_type": "code",
   "id": "5136cd94-5c88-40f4-bb29-f4f69d3ac1f2",
   "metadata": {
    "ExecuteTime": {
     "end_time": "2025-03-03T14:42:02.118856Z",
     "start_time": "2025-03-03T14:42:01.838162Z"
    }
   },
   "source": [
    "def text_clean(text, LETTERS = 'ABCDEFGHIJKLMNOPQRSTUVWXYZ'):\n",
    "\tret = \"\"\n",
    "\tLETTERS += LETTERS.upper()\n",
    "\tLETTERS += LETTERS.lower()\n",
    "\tfor l in text:\n",
    "\t\tif LETTERS.find(l) != -1:\n",
    "\t\t\tret += l\n",
    "\n",
    "\treturn ret.upper()\n",
    "\n",
    "plaintext = text_clean(plaintext)\n",
    "plaintext[0:19]"
   ],
   "outputs": [
    {
     "data": {
      "text/plain": [
       "'THEPROJECTGUTENBERG'"
      ]
     },
     "execution_count": 7,
     "metadata": {},
     "output_type": "execute_result"
    }
   ],
   "execution_count": 7
  },
  {
   "cell_type": "markdown",
   "id": "c306864d-d543-4dd1-8e63-3e3784cae60d",
   "metadata": {},
   "source": [
    "6. **In the cell below, use `Matplotlib` to create a bar chart**. Create a bar chart that shows the letter frequencies of `plaintext`. Compare how the frequencies of the 26 letters are similar/different to what is typically expected for the English language. You'll probably see that `plaintext` has very similar letter frequencies as \"typical\" English, but don't be surprised that if the English translation from the ancient Greek version of *The Republic* by Plato doesn't quite follow the same letter distribution as a book from a more modern era!"
   ]
  },
  {
   "cell_type": "code",
   "id": "4dd4a221-85f2-455b-a1e9-890fdba4568e",
   "metadata": {
    "ExecuteTime": {
     "end_time": "2025-03-03T14:42:04.016320Z",
     "start_time": "2025-03-03T14:42:02.121558Z"
    }
   },
   "source": [
    "import matplotlib.pyplot as plt\n",
    "\n",
    "letters = 'ABCDEFGHIJKLMNOPQRSTUVWXYZ'\n",
    "lets = []\n",
    "nums = []\n",
    "\n",
    "for l in letters:\n",
    "\tlets.append(l)\n",
    "\tnums.append(plaintext.count(l))\n",
    "\n",
    "plt.bar(lets, nums)\n",
    "plt.title('Letter Frequency')\n",
    "plt.xlabel('Letters')\n",
    "plt.ylabel('Count')\n",
    "plt"
   ],
   "outputs": [
    {
     "data": {
      "text/plain": [
       "<module 'matplotlib.pyplot' from '/Library/Frameworks/Python.framework/Versions/3.12/lib/python3.12/site-packages/matplotlib/pyplot.py'>"
      ]
     },
     "execution_count": 8,
     "metadata": {},
     "output_type": "execute_result"
    },
    {
     "data": {
      "text/plain": [
       "<Figure size 640x480 with 1 Axes>"
      ],
      "image/png": "[encoded data removed]"
     },
     "metadata": {},
     "output_type": "display_data"
    }
   ],
   "execution_count": 8
  },
  {
   "cell_type": "markdown",
   "id": "473bec22-5aa9-4c80-8878-ac6e464a697d",
   "metadata": {},
   "source": [
    "7. **In the cell below, encrypt your message using the Affine cipher.** You already wrote a function to implement the Caesar cipher. Modifying your Caesar function to encrypt a message for the Affine cipher should only involve taking in another parameter (for the multiplicative key) and then using that key with some multiplication inside the encryption loop. You don't need to have the function decipher messages for this activity, but you *could* think about how you'd do that. Store the encrypted message as `ciphertext`."
   ]
  },
  {
   "cell_type": "code",
   "id": "3ca10a55-2e4f-4e20-9d3c-ec5db2468b77",
   "metadata": {
    "ExecuteTime": {
     "end_time": "2025-03-03T14:42:05.123943Z",
     "start_time": "2025-03-03T14:42:04.017568Z"
    }
   },
   "source": [
    "def text_block(t, n=5):\n",
    "\tf = \"\"\n",
    "\ti = 0\n",
    "\tfor l in t:\n",
    "\t\tif i % n == 0 and i != 0:\n",
    "\t\t\tf += \" \"\n",
    "\n",
    "\t\tf += l\n",
    "\t\ti += 1\n",
    "\n",
    "\treturn f\n",
    "\n",
    "def affine(text, km, ka, LETTERS=\"ABCDEFGHIJKLMNOPQRSTUVWXYZ\"):\n",
    "\tcipher = \"\"\n",
    "\tfor l in text:\n",
    "\t\tif LETTERS.find(l.upper()) == -1:\n",
    "\t\t\tcontinue\n",
    "\n",
    "\t\tnum = (LETTERS.index(l.upper())*km + ka) % 26\n",
    "\n",
    "\t\tcipher += LETTERS[num]\n",
    "\n",
    "\treturn text_block(cipher.upper())\n",
    "\n",
    "ciphertext = affine(plaintext, 137, 14)\n",
    "print(ciphertext[0:19])\n",
    "affine(plaintext, 7, 14)[0:19]"
   ],
   "outputs": [
    {
     "name": "stdout",
     "output_type": "stream",
     "text": [
      "RLQPD IZQCR EYRQB V\n"
     ]
    },
    {
     "data": {
      "text/plain": [
       "'RLQPD IZQCR EYRQB V'"
      ]
     },
     "execution_count": 9,
     "metadata": {},
     "output_type": "execute_result"
    }
   ],
   "execution_count": 9
  },
  {
   "cell_type": "markdown",
   "id": "3faf9da8-b7ce-4258-9ee5-291fb8d1c7c9",
   "metadata": {},
   "source": [
    "8. **In the cell below, ue `Matplotlib` to create a bar chart (again)**. Create a bar chart of the text in `ciphertext`. Notice how the encryption changes the letter frequencies."
   ]
  },
  {
   "cell_type": "code",
   "id": "df0083c8-dcc2-40be-bc17-08548317af5b",
   "metadata": {
    "ExecuteTime": {
     "end_time": "2025-03-03T14:42:05.364027Z",
     "start_time": "2025-03-03T14:42:05.126778Z"
    }
   },
   "source": [
    "lets2 = []\n",
    "nums2 = []\n",
    "\n",
    "for l in letters:\n",
    "\tlets2.append(l)\n",
    "\tnums2.append(ciphertext.count(l))\n",
    "\n",
    "plt.bar(lets2, nums2)\n",
    "plt.title('Letter Frequency (Ciphertext)')\n",
    "plt.xlabel('Letters')\n",
    "plt.ylabel('Count')\n",
    "plt"
   ],
   "outputs": [
    {
     "data": {
      "text/plain": [
       "<module 'matplotlib.pyplot' from '/Library/Frameworks/Python.framework/Versions/3.12/lib/python3.12/site-packages/matplotlib/pyplot.py'>"
      ]
     },
     "execution_count": 10,
     "metadata": {},
     "output_type": "execute_result"
    },
    {
     "data": {
      "text/plain": [
       "<Figure size 640x480 with 1 Axes>"
      ],
      "image/png": "[encoded data removed]"
     },
     "metadata": {},
     "output_type": "display_data"
    }
   ],
   "execution_count": 10
  },
  {
   "cell_type": "markdown",
   "id": "44503f2a-7e2c-4f17-a563-61d7f8c4b855",
   "metadata": {},
   "source": [
    "9. **Send the bar chart to a classmate**. \n",
    "Email or chat an image of your bar chart for your encrypted text to a classmate. To save the image you can either take a screen shot of your bar chart OR if you right click on the bar chart, you should have an option to \"Create a New View for Output\". This will put the image into a new window. If you right click on the image in the new window, you should have an option to save it to your computer. Either way, once you have an image file on your computer, you can send that to a classmate."
   ]
  },
  {
   "metadata": {
    "ExecuteTime": {
     "end_time": "2025-03-03T14:42:05.369287Z",
     "start_time": "2025-03-03T14:42:05.365732Z"
    }
   },
   "cell_type": "code",
   "source": "",
   "id": "5da7f86946953ee8",
   "outputs": [],
   "execution_count": 10
  },
  {
   "cell_type": "markdown",
   "id": "086e04dd-6226-46a6-b38c-5ac0ce714e1c",
   "metadata": {},
   "source": [
    "10. **Guess someone elses keys!** Use the bar chart you received from a classmate to determine the additive and multiplicative keys that they used to create their ciphertext. You'll need to set up a system of congruences and solve for the keys! Once you think you've determined the keys, confirm with the classmate who sent you the bar chart.\n",
    "\n",
    "![bargraph](bargraph.png \"Eleazer Bar Chart\")"
   ]
  },
  {
   "metadata": {},
   "cell_type": "markdown",
   "source": [
    "| Plaintext | Ciphertext |\n",
    "| --------- | ---------- |\n",
    "| E | T |\n",
    "| T | K |\n",
    "| A | N |"
   ],
   "id": "a18177212d290930"
  },
  {
   "metadata": {
    "ExecuteTime": {
     "end_time": "2025-03-03T14:44:30.394980Z",
     "start_time": "2025-03-03T14:44:30.388669Z"
    }
   },
   "cell_type": "code",
   "source": [
    "LETTERS=\"ABCDEFGHIJKLMNOPQRSTUVWXYZ\"\n",
    "print(f\"{LETTERS.find(\"E\")} -> {LETTERS.find(\"T\")}\")\n",
    "print(f\"{LETTERS.find(\"T\")} -> {LETTERS.find(\"K\")}\")"
   ],
   "id": "f8f74033b6adc12e",
   "outputs": [
    {
     "name": "stdout",
     "output_type": "stream",
     "text": [
      "4 -> 19\n",
      "19 -> 10\n"
     ]
    }
   ],
   "execution_count": 12
  },
  {
   "metadata": {},
   "cell_type": "markdown",
   "source": "The multiplicative key is 15 and the additive key is 11",
   "id": "f3081c135a48d3b0"
  }
 ],
 "metadata": {
  "kernelspec": {
   "display_name": "Python 3 (ipykernel)",
   "language": "python",
   "name": "python3"
  },
  "language_info": {
   "codemirror_mode": {
    "name": "ipython",
    "version": 3
   },
   "file_extension": ".py",
   "mimetype": "text/x-python",
   "name": "python",
   "nbconvert_exporter": "python",
   "pygments_lexer": "ipython3",
   "version": "3.12.8"
  }
 },
 "nbformat": 4,
 "nbformat_minor": 5
}
